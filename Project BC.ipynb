{
 "cells": [
  {
   "cell_type": "code",
   "execution_count": 2,
   "id": "cd92ce36-06a5-4ec5-a461-7b01d5b89358",
   "metadata": {},
   "outputs": [],
   "source": [
    "import numpy as np\n",
    "import matplotlib.pyplot as plt\n",
    "import pandas as pd"
   ]
  },
  {
   "cell_type": "code",
   "execution_count": 15,
   "id": "fd0bd58b-e2cb-416f-9c1e-1b92c7af1ab8",
   "metadata": {},
   "outputs": [],
   "source": [
    "samples = pd.read_csv(\"samples.csv\", delimiter=\",\")\n",
    "train_data = pd.read_csv(\"train_ts.csv\")\n",
    "samples = samples.to_numpy()\n",
    "train_data = train_data.to_numpy()"
   ]
  },
  {
   "cell_type": "code",
   "execution_count": 16,
   "id": "cff51674-dc47-4e14-98be-b968065b40f6",
   "metadata": {},
   "outputs": [
    {
     "data": {
      "text/plain": [
       "((9999, 15), (9999, 201))"
      ]
     },
     "execution_count": 16,
     "metadata": {},
     "output_type": "execute_result"
    }
   ],
   "source": [
    "\n",
    "\n",
    "samples.shape, train_data.shape"
   ]
  },
  {
   "cell_type": "code",
   "execution_count": null,
   "id": "b7b22ccf-dce9-4935-b057-fb7d3de36510",
   "metadata": {},
   "outputs": [],
   "source": []
  },
  {
   "cell_type": "code",
   "execution_count": null,
   "id": "0102cf08-4d29-4ffc-b916-db0b193a8f37",
   "metadata": {},
   "outputs": [],
   "source": []
  },
  {
   "cell_type": "code",
   "execution_count": null,
   "id": "2a7169e1-ca24-4f0e-983c-067aed854af8",
   "metadata": {},
   "outputs": [],
   "source": []
  },
  {
   "cell_type": "code",
   "execution_count": null,
   "id": "7ffc0103-111d-4cf4-8e39-5c1936ac4b62",
   "metadata": {},
   "outputs": [],
   "source": []
  },
  {
   "cell_type": "code",
   "execution_count": null,
   "id": "d8f91a74-f929-456c-953c-e97664634b85",
   "metadata": {},
   "outputs": [],
   "source": []
  },
  {
   "cell_type": "code",
   "execution_count": null,
   "id": "05c0e641-6d86-4644-9cb0-75fd539883d5",
   "metadata": {},
   "outputs": [],
   "source": []
  },
  {
   "cell_type": "code",
   "execution_count": null,
   "id": "10c2f20a-9a90-47e2-9ef3-4c3339bd1e26",
   "metadata": {},
   "outputs": [],
   "source": []
  }
 ],
 "metadata": {
  "kernelspec": {
   "display_name": "Python 3",
   "language": "python",
   "name": "python3"
  },
  "language_info": {
   "codemirror_mode": {
    "name": "ipython",
    "version": 3
   },
   "file_extension": ".py",
   "mimetype": "text/x-python",
   "name": "python",
   "nbconvert_exporter": "python",
   "pygments_lexer": "ipython3",
   "version": "3.8.8"
  }
 },
 "nbformat": 4,
 "nbformat_minor": 5
}
